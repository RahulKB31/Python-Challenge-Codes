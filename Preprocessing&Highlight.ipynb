{
 "cells": [
  {
   "cell_type": "code",
   "execution_count": 19,
   "id": "eb6b487c-d6ff-40f2-a3d3-a97e8b5651b2",
   "metadata": {},
   "outputs": [
    {
     "name": "stdout",
     "output_type": "stream",
     "text": [
      "Preprocessing and Highlighting Completed\n"
     ]
    }
   ],
   "source": [
    "import pandas as pd\n",
    "from openpyxl import load_workbook\n",
    "from openpyxl.styles import PatternFill\n",
    "\n",
    "def is_date_or_digits(value):\n",
    "  '''\n",
    "  Check if the value is a date or a string of digits.\n",
    "  '''\n",
    "  value = str(value).strip()\n",
    "  if value.isdigit():\n",
    "    return True\n",
    "  try:\n",
    "    pd.to_datetime(value, errors='raise')\n",
    "    return True\n",
    "  except:\n",
    "    return False\n",
    "\n",
    "def preprocess_and_highlight(file_path,sheets):\n",
    "  # Load workbook\n",
    "  wb = load_workbook(file_path)\n",
    "  yellow_fill = PatternFill(start_color=\"FFFF00\", end_color=\"FFFF00\", fill_type=\"solid\")\n",
    "\n",
    "  for sheet_name in sheets:\n",
    "    df = pd.read_excel(file_path, sheet_name=sheet_name)\n",
    "    df = df.dropna(subset=['Process Step'])\n",
    "    df = df[df['Process Step'].astype(str).str.strip() != '']\n",
    "    df = df.reset_index(drop=True)\n",
    "\n",
    "    # Identify rows to hightlight\n",
    "    highlight_indices = []\n",
    "    for core in df['Core'].dropna().unique():\n",
    "      core_mask = df['Core'] == core\n",
    "      core_df = df[core_mask]\n",
    "      process_steps = core_df['Process Step'].astype(str).str.strip()\n",
    "\n",
    "      has_date_like = process_steps.apply(is_date_or_digits).any()\n",
    "\n",
    "      if has_date_like:\n",
    "        highlight_mask = core_mask & process_steps.apply(is_date_or_digits)\n",
    "      else:\n",
    "        highlight_mask = (\n",
    "            core_mask &\n",
    "            process_steps.str.contains('cad', case=False, na=False) & \n",
    "            core_df['Bearing Air'].str.contains('off', case=False, na=False) &\n",
    "            core_df['Stroke Loc'].str.contains('bdc', case=False, na=False)\n",
    "        )\n",
    "      highlight_indices.extend(df[highlight_mask].index.tolist())\n",
    "\n",
    "    ws = wb[sheet_name]\n",
    "    ws.delete_rows(2, ws.max_row)\n",
    "\n",
    "    for row in df.itertuples(index=False): \n",
    "      ws.append(row)\n",
    "    for i in highlight_indices:\n",
    "      for col in range(1, len(df.columns) + 1): \n",
    "        ws.cell(row=i+2, column=col).fill = yellow_fill\n",
    "\n",
    "  wb.save(file_path)\n",
    "  print(\"Preprocessing and Highlighting Completed\")\n",
    "      \n",
    "if __name__ == \"__main__\":\n",
    "  file_path = \"Data.xlsx\"\n",
    "  sheets_to_process = ['J Core', 'K Core', 'M Core']\n",
    "  preprocess_and_highlight(file_path,sheets_to_process)"
   ]
  },
  {
   "cell_type": "code",
   "execution_count": null,
   "id": "bbdf6593-fc3e-41cc-9d53-431e867cfb1e",
   "metadata": {},
   "outputs": [],
   "source": []
  }
 ],
 "metadata": {
  "kernelspec": {
   "display_name": "Python 3 (ipykernel)",
   "language": "python",
   "name": "python3"
  },
  "language_info": {
   "codemirror_mode": {
    "name": "ipython",
    "version": 3
   },
   "file_extension": ".py",
   "mimetype": "text/x-python",
   "name": "python",
   "nbconvert_exporter": "python",
   "pygments_lexer": "ipython3",
   "version": "3.8.5"
  }
 },
 "nbformat": 4,
 "nbformat_minor": 5
}
